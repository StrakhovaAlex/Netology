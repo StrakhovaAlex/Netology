{
 "cells": [
  {
   "cell_type": "code",
   "execution_count": 8,
   "metadata": {},
   "outputs": [
    {
     "name": "stdout",
     "output_type": "stream",
     "text": [
      "Введите слово yhj\n",
      "h\n"
     ]
    }
   ],
   "source": [
    "#Задача 1. Дано слово из латинских букв. \n",
    "#Напишите скрипт, который выводит на экран букву из середины слова (если число букв нечетное).\n",
    "#Если букв четное число, то на экран выводятся две буквы из середины.\n",
    "#Пример: для 'test' должно выводится 'es', для 'testing' - 't'\n",
    "word = input('Введите слово ')\n",
    "x = len(word)// 2\n",
    "if len(word) % 2 == 1 :\n",
    "    print(word[x])\n",
    "else :\n",
    "    print(word[x-1:x+1])"
   ]
  },
  {
   "cell_type": "code",
   "execution_count": 9,
   "metadata": {},
   "outputs": [
    {
     "name": "stdout",
     "output_type": "stream",
     "text": [
      "Alex и Emma\n",
      "Arthur и Kate\n",
      "John и Kira\n",
      "Peter и Liza\n",
      "Richard и Trisha\n"
     ]
    }
   ],
   "source": [
    "#Задача 2. Мы делаем MVP dating-сервиса, и у нас есть список парней и девушек (их число может варьироваться):\n",
    "#boys = ['Peter', 'Alex', 'John', 'Arthur', 'Richard']\n",
    "#girls = ['Kate', 'Liza', 'Kira', 'Emma', 'Trisha']\n",
    "#Выдвигаем гипотезу: лучшие рекомендации мы получим, если просто отсортируем имена по алфавиту \n",
    "#и познакомим людей с одинаковыми индексами после сортировки! \n",
    "#\"Познакомить\" пары нам поможет функция zip, а в цикле распакуем zip-объект и выведем информацию в виде:\n",
    "#Идеальные пары:\n",
    "#Alex и Emma\n",
    "#Arthur и Kate\n",
    "#John и Kira\n",
    "#Peter и Liza\n",
    "#Richard и Trisha\n",
    "#Внимание! Если количество людей в списках будет не совпадать, \n",
    "#то мы никого знакомить не будет и выведем пользователю предупреждение, что кто-то может остаться без пары!\n",
    "boys = ['Peter', 'Alex', 'John', 'Arthur', 'Richard']\n",
    "girls = ['Kate', 'Liza', 'Kira', 'Emma', 'Trisha']\n",
    "sorted_boys = sorted(boys)\n",
    "sorted_qirls = sorted(girls)\n",
    "if len(sorted_boys) == len(sorted_qirls):\n",
    "    for i, j in zip(sorted_boys , sorted_qirls):\n",
    "         print(i,'и', j)\n",
    "else:\n",
    "    print('Количество людей в списках не совпадает')\n"
   ]
  },
  {
   "cell_type": "code",
   "execution_count": 10,
   "metadata": {},
   "outputs": [
    {
     "name": "stdout",
     "output_type": "stream",
     "text": [
      "Thailand , average temperature =  74.94285714285714\n",
      "Germany , average temperature =  56.685714285714276\n",
      "Russia , average temperature =  38.68571428571429\n",
      "Poland , average temperature =  53.34285714285714\n"
     ]
    }
   ],
   "source": [
    "#Задача 3. У нас есть список, содержащий информацию о среднедневной температуре в Фаренгейтах \n",
    "#за недельный период по странам. Необходимо написать код, \n",
    "#который рассчитает среднюю температуру за неделю в Цельсиях для каждой страны.\n",
    "countries_temperature = [\n",
    " ['Thailand', [75.2, 77, 78.8, 73.4, 68, 75.2, 77]],\n",
    " ['Germany', [57.2, 55.4, 59, 59, 53.6, 55.4, 57.2]],\n",
    " ['Russia', [35.6, 37.4, 39.2, 41, 42.8, 39.2, 35.6]],\n",
    " ['Poland', [50, 50, 53.6, 57.2, 55.4, 55.4, 51.8]],\n",
    "]\n",
    "for country , history_temperature in countries_temperature:\n",
    "    print(country , ', average temperature = ' , sum(history_temperature)/len(history_temperature))\n"
   ]
  },
  {
   "cell_type": "code",
   "execution_count": 16,
   "metadata": {},
   "outputs": [
    {
     "name": "stdout",
     "output_type": "stream",
     "text": [
      "23.25\n"
     ]
    }
   ],
   "source": [
    "#Задача 4. Дан поток логов по количеству просмотренных страниц для каждого пользователя.\n",
    "#Список отсортирован по ID пользователя. \n",
    "# Вам необходимо написать алгоритм, который считает среднее значение просмотров на пользователя.\n",
    "#Т. е. надо посчитать отношение суммы всех просмотров к количеству уникальных пользователей.\n",
    "stream = [\n",
    "    '2018-01-01,user1,3',\n",
    "    '2018-01-07,user1,4',\n",
    "    '2018-03-29,user1,1',\n",
    "    '2018-04-04,user1,13',\n",
    "    '2018-01-05,user2,7',\n",
    "    '2018-06-14,user3,4',\n",
    "    '2018-07-02,user3,10',\n",
    "    '2018-03-21,user4,19',\n",
    "    '2018-03-22,user4,4',\n",
    "    '2018-04-22,user4,8',\n",
    "    '2018-05-03,user4,9',\n",
    "    '2018-05-11,user4,11',\n",
    "]\n",
    "\n",
    "stream_tuples = [tuple(s.split(',')) for s in stream]\n",
    "dates,users,views = zip(*stream_tupels)  \n",
    "views_int = [int(v) for v in views]\n",
    "avg = sum(views_int)/len(set(users))\n",
    "print(avg)"
   ]
  },
  {
   "cell_type": "code",
   "execution_count": 20,
   "metadata": {},
   "outputs": [
    {
     "name": "stdout",
     "output_type": "stream",
     "text": [
      "Введите дату 2018-01-02\n",
      "Введите компанию google\n",
      "Для 2018-01-02 и google число равно 574\n"
     ]
    }
   ],
   "source": [
    "#Задача 5. Дана статистика рекламных кампаний по дням.\n",
    "#Напишите алгоритм, который по паре дата-кампания ищет значение численного столбца. \n",
    "#Т. е. для даты '2018-01-01' и 'google' нужно получить число 25. \n",
    "#Считайте, что все комбинации дата-кампания уникальны.\n",
    "stats = [\n",
    "    ['2018-01-01', 'google', 25],\n",
    "    ['2018-01-01', 'yandex', 65],\n",
    "    ['2018-01-01', 'market', 89],\n",
    "    ['2018-01-02', 'google', 574],\n",
    "    ['2018-01-02', 'yandex', 249],\n",
    "    ['2018-01-02', 'market', 994],\n",
    "    ['2018-01-03', 'google', 1843],\n",
    "    ['2018-01-03', 'yandex', 1327],\n",
    "    ['2018-01-03', 'market', 1764],\n",
    "]\n",
    "x = input('Введите дату ')\n",
    "y = input ('Введите компанию ')\n",
    "for date , company , number in stats:\n",
    "    if date == x and company == y:\n",
    "        print('Для' , x , 'и' , y , 'число равно' , number)"
   ]
  },
  {
   "cell_type": "code",
   "execution_count": 5,
   "metadata": {},
   "outputs": [
    {
     "name": "stdout",
     "output_type": "stream",
     "text": [
      "103\n"
     ]
    }
   ],
   "source": [
    "#Напишите код, который будет вычислять сумму элементов на диагонали. Т. е. 13+32+23+35.\n",
    "#Список может быть любой длины, но всегда является \"квадратным\" \n",
    "#(количество элементов во вложенных списках равно их количеству).\n",
    "data = [\n",
    "    [13, 25, 23, 34],\n",
    "    [45, 32, 44, 47],\n",
    "    [12, 33, 23, 95],\n",
    "    [13, 53, 34, 35]\n",
    "]\n",
    "\n",
    "diagonal = [data[i][i] for i in range(len(data[0]))]\n",
    "sum_diagonal =sum(diagonal)\n",
    "print(sum_diagonal)\n"
   ]
  },
  {
   "cell_type": "code",
   "execution_count": null,
   "metadata": {},
   "outputs": [],
   "source": []
  }
 ],
 "metadata": {
  "kernelspec": {
   "display_name": "Python 3",
   "language": "python",
   "name": "python3"
  },
  "language_info": {
   "codemirror_mode": {
    "name": "ipython",
    "version": 3
   },
   "file_extension": ".py",
   "mimetype": "text/x-python",
   "name": "python",
   "nbconvert_exporter": "python",
   "pygments_lexer": "ipython3",
   "version": "3.7.4"
  }
 },
 "nbformat": 4,
 "nbformat_minor": 2
}
