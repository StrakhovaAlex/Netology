{
 "cells": [
  {
   "cell_type": "code",
   "execution_count": 20,
   "metadata": {},
   "outputs": [],
   "source": [
    "#Домашнее задание\n",
    "#Переведите содержимое файла purchase_log.txt в словарь purchases вида:\n",
    "#{'1840e0b9d4': 'Продукты', ...}\n",
    "#Для каждого user_id в файле visit_log.csv добавьте третий столбец с категорией покупки (если покупка была).\n",
    "#Запишите в файл funnel.csv визиты из файла visit_log.csv, в которых были покупки с указанием категории.\n",
    "#Учтите условия на данные:\n",
    "#содержимое purchase_log.txt помещается в оперативную память компьютера\n",
    "#содержимое visit_log.csv - нет; используйте только построчную обработку этого файла\n",
    "import json\n",
    "with open('purchase_log.txt', 'r') as f:\n",
    "    data = f.readlines()\n",
    "    data = list(map(lambda s: json.loads(s),data))\n",
    "    purchases = {d['user_id']:d['category'] for d in data}\n",
    "\n"
   ]
  },
  {
   "cell_type": "code",
   "execution_count": 21,
   "metadata": {},
   "outputs": [],
   "source": [
    "import os\n",
    "file = open('visit_log.csv','r')\n",
    "file_new = open('visit_log_new.csv','w')\n",
    "funnel_file = open('funnel.csv','w')\n",
    "\n",
    "for i,line in enumerate(file):\n",
    "    if i == 0:\n",
    "        cols = line.replace('\\n','').split(',')\n",
    "        cols_new = cols + ['category']\n",
    "        file_new.write(','.join(cols_new)+'\\n')\n",
    "        funnel_file.write(line)\n",
    "    else:\n",
    "        args = line.replace('\\n','').split(',')\n",
    "        dct = dict(zip(cols,args))\n",
    "        dct['category'] = purchases[dct['user_id']] if dct['user_id'] in purchases.keys() else '' \n",
    "        file_new.write(','.join([dct[col] for col in cols_new])+'\\n')\n",
    "        if len(dct['category']) > 0:\n",
    "            funnel_file.write(','.join([dct[col] for col in cols])+'\\n')\n",
    "file.close()\n",
    "file_new.close()\n",
    "funnel_file.close()\n",
    "os.rename('visit_log_new.csv','visit_log.csv')"
   ]
  },
  {
   "cell_type": "code",
   "execution_count": null,
   "metadata": {},
   "outputs": [],
   "source": []
  }
 ],
 "metadata": {
  "kernelspec": {
   "display_name": "Python 3",
   "language": "python",
   "name": "python3"
  },
  "language_info": {
   "codemirror_mode": {
    "name": "ipython",
    "version": 3
   },
   "file_extension": ".py",
   "mimetype": "text/x-python",
   "name": "python",
   "nbconvert_exporter": "python",
   "pygments_lexer": "ipython3",
   "version": "3.7.6"
  }
 },
 "nbformat": 4,
 "nbformat_minor": 4
}
