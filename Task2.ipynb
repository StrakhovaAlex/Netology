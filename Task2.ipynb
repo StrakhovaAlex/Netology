{
 "cells": [
  {
   "cell_type": "code",
   "execution_count": 13,
   "metadata": {},
   "outputs": [
    {
     "name": "stdout",
     "output_type": "stream",
     "text": [
      "True\n"
     ]
    }
   ],
   "source": []
  },
  {
   "cell_type": "code",
   "execution_count": 2,
   "metadata": {},
   "outputs": [
    {
     "data": {
      "text/plain": [
       "True"
      ]
     },
     "execution_count": 2,
     "metadata": {},
     "output_type": "execute_result"
    }
   ],
   "source": [
    "#Задание 1. Даны 2 строки: long_phrase и short_phrase.\n",
    "#Напишите код, который проверяет действительно ли длинная фраза long_phrase длиннее короткой short_phrase.\n",
    "#И выводит True или False в зависимости от результата сравнения.\n",
    "long_phrase = 'Насколько проще было бы писать программы, если бы не заказчики'\n",
    "short_phrase = '640Кб должно хватить для любых задач. Билл Гейтс (по легенде)'\n",
    "len(long_phrase) > len(short_phrase)"
   ]
  },
  {
   "cell_type": "code",
   "execution_count": 3,
   "metadata": {},
   "outputs": [
    {
     "name": "stdout",
     "output_type": "stream",
     "text": [
      "Введите размер файла3366\n",
      "\"Объем файла равен 0.0032100677490234375 Mb\"\n"
     ]
    }
   ],
   "source": [
    "# Задание 2. Дано значение объема файла в байтах (в мегабайте 2^20 байт). \n",
    "#Напишите перевод этого значения в мегабайты в формате: \"Объем файла равен 213.68Mb\".\n",
    "file_size_b = int ( input('Введите размер файла'))\n",
    "file_size_m = file_size_b / (2**20)\n",
    "print( '\"Объем файла равен' , file_size_m , 'Mb\"' )"
   ]
  },
  {
   "cell_type": "code",
   "execution_count": 2,
   "metadata": {},
   "outputs": [
    {
     "name": "stdout",
     "output_type": "stream",
     "text": [
      "Введите месяц декабрь\n",
      "Введите дату 22\n",
      "Стрелец\n"
     ]
    }
   ],
   "source": [
    "#Задание 3. Разработать приложение для определения знака зодиака по дате рождения. Пример:\n",
    "#Введите месяц: март\n",
    "#Введите число: 6\n",
    "#Вывод: Рыбы\n",
    "month =  str( input('Введите месяц '))\n",
    "date_m = int ( input ('Введите дату '))\n",
    "if month.lower() == 'январь':\n",
    "    if 0 < date_m <= 20:\n",
    "        print('Козерог')\n",
    "    elif  20 < date_m <= 31:\n",
    "        print ('Водолей')\n",
    "    else:\n",
    "        print('Ошибка ввода')\n",
    "elif month.lower() == 'февраль':\n",
    "    if 0 < date_m <= 19:\n",
    "        print('Водолей')\n",
    "    elif  19 < date_m <= 29:\n",
    "        print ('Рыбы')        \n",
    "    else:\n",
    "        print('Ошибка ввода')\n",
    "elif month.lower() == 'март':\n",
    "    if 0 < date_m <= 20:\n",
    "        print('Рыбы')\n",
    "    elif  20 < date_m <= 31:\n",
    "        print ('Овен')        \n",
    "    else:\n",
    "        print('Ошибка ввода')               \n",
    "elif month.lower() == 'апрель':\n",
    "    if 0 < date_m <= 20:\n",
    "        print('Овен')\n",
    "    elif  20 < date_m <= 30:\n",
    "        print ('Тельцы')        \n",
    "    else:\n",
    "        print('Ошибка ввода')             \n",
    "elif month.lower() == 'май':\n",
    "    if 0 < date_m <= 21:\n",
    "        print('Тельцы')\n",
    "    elif  21 < date_m <= 31:\n",
    "        print ('Близнецы')        \n",
    "    else:\n",
    "        print('Ошибка ввода')              \n",
    "elif month.lower() == 'июнь':\n",
    "    if 0 < date_m <= 21:\n",
    "        print('Близнецы')\n",
    "    elif  21 < date_m <= 30:\n",
    "        print ('Рак')        \n",
    "    else:\n",
    "        print('Ошибка ввода')            \n",
    "elif month.lower() == 'июль':\n",
    "    if 0 < date_m <= 22:\n",
    "        print('Рак')\n",
    "    elif  22 < date_m <= 31:\n",
    "        print ('Лев')        \n",
    "    else:\n",
    "        print('Ошибка ввода')           \n",
    "elif month.lower() == 'август':\n",
    "    if 0 < date_m <= 21:\n",
    "        print('Лев')\n",
    "    elif  21 < date_m <= 31:\n",
    "        print ('Дева')        \n",
    "    else:\n",
    "        print('Ошибка ввода')            \n",
    "elif month.lower() == 'сентябрь':\n",
    "    if 0 < date_m <= 23:\n",
    "        print('Дева')\n",
    "    elif  23 < date_m <= 30:\n",
    "        print ('Весы')        \n",
    "    else:\n",
    "        print('Ошибка ввода')            \n",
    "elif month.lower() == 'октябрь':\n",
    "    if 0 < date_m <= 23:\n",
    "        print('Весы')\n",
    "    elif  23 < date_m <= 31:\n",
    "        print ('Скорпион')        \n",
    "    else:\n",
    "        print('Ошибка ввода')          \n",
    "elif month.lower() == 'ноябрь':\n",
    "    if 0 < date_m <= 22:\n",
    "        print('Скорпион')\n",
    "    elif  22 < date_m <= 30:\n",
    "        print ('Стрелец')        \n",
    "    else:\n",
    "        print('Ошибка ввода')         \n",
    "elif month.lower() == 'декабрь':\n",
    "    if 0 < date_m <= 22:\n",
    "        print('Стрелец')\n",
    "    elif  22 < date_m <= 31:\n",
    "        print ('Козерог')        \n",
    "    else:\n",
    "        print('Ошибка ввода')            \n",
    "else:\n",
    "    print('Ошибка ввода')\n"
   ]
  },
  {
   "cell_type": "code",
   "execution_count": 3,
   "metadata": {},
   "outputs": [
    {
     "name": "stdout",
     "output_type": "stream",
     "text": [
      "Введите заработную плату в месяц: 100000\n",
      "Введите сколько процентов уходит на ипотеку: 30\n",
      "Введите сколько процентов уходит на жизнь: 50\n",
      "Введите количество премий за год: 2\n",
      "На ипотеку было потрачено:  360000.0  рублей Было накоплено:  340000.0  рублей\n"
     ]
    }
   ],
   "source": [
    "#Задание 4. Нужно разработать приложение для финансового планирования. П\n",
    "#Приложение учитывает сколько уходит на ипотеку, \"на жизнь\" и сколько нужно отложить на пенсию. Пользователь вводит:\n",
    "#     заработанную плату в месяц.\n",
    "#     сколько процентов от ЗП уходит на ипотеку.\n",
    "#     сколько процентов от ЗП уходит \"на жизнь\".\n",
    "#     сколько раз приходит премия в год.\n",
    "\n",
    "# Остальная часть заработанной платы откладывается на пенсию.\n",
    "\n",
    "# Также пользователю приходит премия в размере зарплаты, от которой половина уходит на отпуск, а вторая половина откладывается.\n",
    "\n",
    "# Программа должна учитывать сколько премий было в год.\n",
    "\n",
    "# Нужно вывести сколько денег тратит пользователь на ипотеку и сколько он накопит за год.\n",
    "\n",
    "# Пример:\n",
    "\n",
    "# Введите заработанную плату в месяц: 100000\n",
    "\n",
    "# Введите сколько процентов уходит на ипотеку: 30\n",
    "\n",
    "# Введите сколько процентов уходит на жизнь: 50\n",
    "\n",
    "# Введите количество премий за год: 2\n",
    "\n",
    "# Вывод: На ипотеку было потрачено: 360000 рублей Было накоплено: 340000 рублей\n",
    "\n",
    "salary =  int( input('Введите заработную плату в месяц: '))\n",
    "mortgage = int ( input ('Введите сколько процентов уходит на ипотеку: '))\n",
    "costs = int ( input ('Введите сколько процентов уходит на жизнь: '))\n",
    "award = int ( input ('Введите количество премий за год: '))\n",
    "annual_income = (12 + award) * salary\n",
    "mortgage_abs = ( mortgage / 100) * (salary * 12)\n",
    "costs_abs = (costs / 100) * (salary * 12)\n",
    "pension = annual_income  - (award /2) * salary- costs_abs - mortgage_abs\n",
    "print ( 'На ипотеку было потрачено: '  , mortgage_abs , ' рублей Было накоплено: ' , pension , ' рублей' )\n"
   ]
  },
  {
   "cell_type": "code",
   "execution_count": null,
   "metadata": {},
   "outputs": [],
   "source": []
  }
 ],
 "metadata": {
  "kernelspec": {
   "display_name": "Python 3",
   "language": "python",
   "name": "python3"
  },
  "language_info": {
   "codemirror_mode": {
    "name": "ipython",
    "version": 3
   },
   "file_extension": ".py",
   "mimetype": "text/x-python",
   "name": "python",
   "nbconvert_exporter": "python",
   "pygments_lexer": "ipython3",
   "version": "3.7.4"
  }
 },
 "nbformat": 4,
 "nbformat_minor": 2
}
